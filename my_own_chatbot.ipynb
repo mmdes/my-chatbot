{
  "nbformat": 4,
  "nbformat_minor": 0,
  "metadata": {
    "colab": {
      "provenance": [],
      "authorship_tag": "ABX9TyNSEwQyd9SHjVItKwR8Cl9Z",
      "include_colab_link": true
    },
    "kernelspec": {
      "name": "python3",
      "display_name": "Python 3"
    },
    "language_info": {
      "name": "python"
    }
  },
  "cells": [
    {
      "cell_type": "markdown",
      "metadata": {
        "id": "view-in-github",
        "colab_type": "text"
      },
      "source": [
        "<a href=\"https://colab.research.google.com/github/mmdes/my-chatbot/blob/main/my_own_chatbot.ipynb\" target=\"_parent\"><img src=\"https://colab.research.google.com/assets/colab-badge.svg\" alt=\"Open In Colab\"/></a>"
      ]
    },
    {
      "cell_type": "markdown",
      "source": [
        "Instalando SDK do Google"
      ],
      "metadata": {
        "id": "qfC5x1pKt-3Y"
      }
    },
    {
      "cell_type": "code",
      "execution_count": null,
      "metadata": {
        "id": "1xCAbEB9n3H3"
      },
      "outputs": [],
      "source": [
        "!pip install -q -U google-generativeai"
      ]
    },
    {
      "cell_type": "code",
      "source": [
        "import google.generativeai as genai\n",
        "\n",
        "GOOGLE_API_KEY= 'SUA_GOOGLE_API_KEY'\n",
        "\n",
        "genai.configure(api_key=GOOGLE_API_KEY)"
      ],
      "metadata": {
        "id": "F6vG2wNludMA"
      },
      "execution_count": null,
      "outputs": []
    },
    {
      "cell_type": "markdown",
      "source": [
        "Listas os modelos disponiveis"
      ],
      "metadata": {
        "id": "YOL3mQl0u7Vj"
      }
    },
    {
      "cell_type": "code",
      "source": [
        "for m in genai.list_models():\n",
        "  if 'generateContent' in m.supported_generation_methods:\n",
        "    print(m.name)"
      ],
      "metadata": {
        "colab": {
          "base_uri": "https://localhost:8080/",
          "height": 139
        },
        "id": "QHKp1Ticu-UA",
        "outputId": "a0d40174-3039-4f09-ab0c-a8fa2ed7dfe4"
      },
      "execution_count": null,
      "outputs": [
        {
          "output_type": "stream",
          "name": "stdout",
          "text": [
            "models/gemini-1.0-pro\n",
            "models/gemini-1.0-pro-001\n",
            "models/gemini-1.0-pro-latest\n",
            "models/gemini-1.0-pro-vision-latest\n",
            "models/gemini-1.5-pro-latest\n",
            "models/gemini-pro\n",
            "models/gemini-pro-vision\n"
          ]
        }
      ]
    },
    {
      "cell_type": "code",
      "source": [
        "generation_config = {\n",
        "    \"candidate_count\": 1,\n",
        "    \"temperature\": 0.5\n",
        "}"
      ],
      "metadata": {
        "id": "JqRApfi896TC"
      },
      "execution_count": null,
      "outputs": []
    },
    {
      "cell_type": "code",
      "source": [
        "safety_settings = {\n",
        "    \"HARASSMENT\": \"BLOCK_NONE\",\n",
        "    \"HATE\": \"BLOCK_NONE\",\n",
        "    \"SEXUAL\":\"BLOCK_NONE\",\n",
        "    \"DANGEROUS\": \"BLOCK_NONE\"\n",
        "}"
      ],
      "metadata": {
        "id": "Ix2sxX1J_LHN"
      },
      "execution_count": null,
      "outputs": []
    },
    {
      "cell_type": "markdown",
      "source": [
        "Inicializando o modelo"
      ],
      "metadata": {
        "id": "WBxzY8WcAsAT"
      }
    },
    {
      "cell_type": "code",
      "source": [
        "model = genai.GenerativeModel(model_name=\"gemini-1.0-pro\",\n",
        "                              generation_config=generation_config, safety_settings=safety_settings)"
      ],
      "metadata": {
        "id": "bqBfQDyKAwDx"
      },
      "execution_count": null,
      "outputs": []
    },
    {
      "cell_type": "code",
      "source": [
        "response = model.generate_content(\"Escreva uma breve história da inteligência artificial.\")\n",
        "\n",
        "print(response.text)"
      ],
      "metadata": {
        "colab": {
          "base_uri": "https://localhost:8080/",
          "height": 625
        },
        "id": "l4nMSJy0A4Mo",
        "outputId": "5f474683-a188-4aeb-af10-f42d8be993c5"
      },
      "execution_count": null,
      "outputs": [
        {
          "output_type": "stream",
          "name": "stdout",
          "text": [
            "**Origens (1940-1956)**\n",
            "\n",
            "* 1943: Warren McCulloch e Walter Pitts propõem um modelo de neurônios artificiais.\n",
            "* 1950: Alan Turing propõe o teste de Turing como um critério para inteligência.\n",
            "* 1956: Conferência de Dartmouth, considerada o nascimento da IA.\n",
            "\n",
            "**Primeira Onda (1956-1974)**\n",
            "\n",
            "* Desenvolvimento de sistemas especialistas, como ELIZA e SHRDLU.\n",
            "* Ênfase em lógica simbólica e processamento de linguagem natural.\n",
            "* Limitações devido à falta de poder computacional e algoritmos ineficientes.\n",
            "\n",
            "**Inverno da IA (1974-1980)**\n",
            "\n",
            "* Fracasso dos sistemas especialistas em atender às expectativas.\n",
            "* Críticas à abordagem simbólica e falta de conexão com a neurociência.\n",
            "* Redução do financiamento e perda de interesse.\n",
            "\n",
            "**Ressurgimento (1980-1990)**\n",
            "\n",
            "* Avanços em poder computacional e algoritmos de aprendizado de máquina.\n",
            "* Ênfase em redes neurais e aprendizado supervisionado.\n",
            "* Desenvolvimento de sistemas de reconhecimento de padrões e processamento de imagens.\n",
            "\n",
            "**Era Moderna (1990-Presente)**\n",
            "\n",
            "* Avanços contínuos em aprendizado profundo e aprendizado por reforço.\n",
            "* Integração de IA em vários campos, incluindo saúde, finanças e transporte.\n",
            "* Preocupações éticas sobre o impacto da IA na sociedade e no emprego.\n",
            "\n",
            "**Tendências Atuais**\n",
            "\n",
            "* Aprendizado federado e aprendizado por transferência.\n",
            "* IA generativa para criação de conteúdo e arte.\n",
            "* IA quântica e seu potencial para acelerar o processamento de informações.\n"
          ]
        }
      ]
    },
    {
      "cell_type": "code",
      "source": [
        "chat = model.start_chat(history=[])"
      ],
      "metadata": {
        "id": "mfUaMkCyDaDS"
      },
      "execution_count": null,
      "outputs": []
    },
    {
      "cell_type": "markdown",
      "source": [],
      "metadata": {
        "id": "nc_2iWkWFwfq"
      }
    },
    {
      "cell_type": "code",
      "source": [
        "prompt = ''\n",
        "while prompt != \"fim\":\n",
        "  prompt = input(\"Esperando o prompt: \")\n",
        "  response = chat.send_message(prompt)\n",
        "  print(\"Resposta:\", response.text, \"\\n\")"
      ],
      "metadata": {
        "colab": {
          "base_uri": "https://localhost:8080/",
          "height": 225
        },
        "id": "EQRbfdI_Eejg",
        "outputId": "1d06e422-81cc-47a7-81e1-063de8b1ef53"
      },
      "execution_count": null,
      "outputs": [
        {
          "output_type": "stream",
          "name": "stdout",
          "text": [
            "Esperando o prompt: Qual a capital do Japão?\n",
            "Resposta: Tóquio \n",
            "\n",
            "Esperando o prompt: Qual a população dessa cidade?\n",
            "Resposta: 13.960.236 (2021) \n",
            "\n",
            "Esperando o prompt: Qual a comida típica dessa cidade?\n",
            "Resposta: Sushi \n",
            "\n",
            "Esperando o prompt: fim\n",
            "Resposta: Obrigado por jogar! \n",
            "\n"
          ]
        }
      ]
    },
    {
      "cell_type": "markdown",
      "source": [
        "Melhorando a visualização"
      ],
      "metadata": {
        "id": "L34Mm7KNW2iN"
      }
    },
    {
      "cell_type": "code",
      "source": [
        "import textwrap\n",
        "from IPython.display import display\n",
        "from IPython.display import Markdown\n",
        "\n",
        "def to_markdown(text):\n",
        "\n",
        "    text = text.replace(\".\", \".\\n\")\n",
        "    return Markdown(textwrap.indent(text, '> ', predicate=lambda _: True))\n",
        "\n",
        "for message in chat.history:\n",
        "    display(to_markdown(f\"**{message.role}**: {message.parts[0].text}\"))\n",
        "    print(\"     ---\")\n"
      ],
      "metadata": {
        "colab": {
          "base_uri": "https://localhost:8080/",
          "height": 519
        },
        "id": "ifUJiIgtLvMS",
        "outputId": "27dda54d-d956-48c1-ac04-c12b28fa2036"
      },
      "execution_count": null,
      "outputs": [
        {
          "output_type": "display_data",
          "data": {
            "text/plain": [
              "<IPython.core.display.Markdown object>"
            ],
            "text/markdown": "> **user**: Qual a capital do Japão?"
          },
          "metadata": {}
        },
        {
          "output_type": "stream",
          "name": "stdout",
          "text": [
            "     ---\n"
          ]
        },
        {
          "output_type": "display_data",
          "data": {
            "text/plain": [
              "<IPython.core.display.Markdown object>"
            ],
            "text/markdown": "> **model**: Tóquio"
          },
          "metadata": {}
        },
        {
          "output_type": "stream",
          "name": "stdout",
          "text": [
            "     ---\n"
          ]
        },
        {
          "output_type": "display_data",
          "data": {
            "text/plain": [
              "<IPython.core.display.Markdown object>"
            ],
            "text/markdown": "> **user**: Qual a população dessa cidade?"
          },
          "metadata": {}
        },
        {
          "output_type": "stream",
          "name": "stdout",
          "text": [
            "     ---\n"
          ]
        },
        {
          "output_type": "display_data",
          "data": {
            "text/plain": [
              "<IPython.core.display.Markdown object>"
            ],
            "text/markdown": "> **model**: 13.\n> 960.\n> 236 (2021)"
          },
          "metadata": {}
        },
        {
          "output_type": "stream",
          "name": "stdout",
          "text": [
            "     ---\n"
          ]
        },
        {
          "output_type": "display_data",
          "data": {
            "text/plain": [
              "<IPython.core.display.Markdown object>"
            ],
            "text/markdown": "> **user**: Qual a comida típica dessa cidade?"
          },
          "metadata": {}
        },
        {
          "output_type": "stream",
          "name": "stdout",
          "text": [
            "     ---\n"
          ]
        },
        {
          "output_type": "display_data",
          "data": {
            "text/plain": [
              "<IPython.core.display.Markdown object>"
            ],
            "text/markdown": "> **model**: Sushi"
          },
          "metadata": {}
        },
        {
          "output_type": "stream",
          "name": "stdout",
          "text": [
            "     ---\n"
          ]
        },
        {
          "output_type": "display_data",
          "data": {
            "text/plain": [
              "<IPython.core.display.Markdown object>"
            ],
            "text/markdown": "> **user**: fim"
          },
          "metadata": {}
        },
        {
          "output_type": "stream",
          "name": "stdout",
          "text": [
            "     ---\n"
          ]
        },
        {
          "output_type": "display_data",
          "data": {
            "text/plain": [
              "<IPython.core.display.Markdown object>"
            ],
            "text/markdown": "> **model**: Obrigado por jogar!"
          },
          "metadata": {}
        },
        {
          "output_type": "stream",
          "name": "stdout",
          "text": [
            "     ---\n"
          ]
        }
      ]
    }
  ]
}